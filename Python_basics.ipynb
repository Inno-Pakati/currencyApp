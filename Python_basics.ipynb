{
  "nbformat": 4,
  "nbformat_minor": 0,
  "metadata": {
    "kernelspec": {
      "display_name": "Python 3",
      "language": "python",
      "name": "python3"
    },
    "language_info": {
      "codemirror_mode": {
        "name": "ipython",
        "version": 3
      },
      "file_extension": ".py",
      "mimetype": "text/x-python",
      "name": "python",
      "nbconvert_exporter": "python",
      "pygments_lexer": "ipython3",
      "version": "3.6.3"
    },
    "colab": {
      "name": "Python_basics.ipynb",
      "provenance": [],
      "include_colab_link": true
    }
  },
  "cells": [
    {
      "cell_type": "markdown",
      "metadata": {
        "id": "view-in-github",
        "colab_type": "text"
      },
      "source": [
        "<a href=\"https://colab.research.google.com/github/Inno-Pakati/currencyApp/blob/master/Python_basics.ipynb\" target=\"_parent\"><img src=\"https://colab.research.google.com/assets/colab-badge.svg\" alt=\"Open In Colab\"/></a>"
      ]
    },
    {
      "cell_type": "markdown",
      "metadata": {
        "id": "FGj7Ov2WIV_V"
      },
      "source": [
        "# Python Basics\n",
        "© Explore Data Science Academy\n",
        "\n",
        "## Learning Objectives:\n",
        "By the end of this train, you should be able to:\n",
        "* Perform basic print functions and string manipulation; and\n",
        "* Create basic Python functions.\n",
        "\n",
        "## Outline\n",
        "In this train we will:\n",
        "* Introduce print statements;\n",
        "* Perform basic string manipulation; and\n",
        "* Breakdown the different aspects of Python Functions."
      ]
    },
    {
      "cell_type": "markdown",
      "metadata": {
        "id": "IXTJbJ57IV_a"
      },
      "source": [
        "## Print Statements and Strings\n",
        "\n",
        "The standard introduction into any programming language is the ''Hello world!'' program. This is a computer program that outputs \"Hello world!\" to your console window. In Python, this program can be implemented using the **print** built-in function as follows: "
      ]
    },
    {
      "cell_type": "code",
      "metadata": {
        "id": "gIHucDZiIV_a"
      },
      "source": [
        "print(\"Hello world!\")"
      ],
      "execution_count": null,
      "outputs": []
    },
    {
      "cell_type": "markdown",
      "metadata": {
        "id": "8zWKGCJjIV_b"
      },
      "source": [
        "The **print** function \"prints\" the value stored in Python variables/objects as a **string** to the console, or other standard output devices. A **string** is a data type used to represent text, i.e. a sequence of characters. In the Python programming language, strings can be specified by encasing a sequence of characters within single or double-quotes."
      ]
    },
    {
      "cell_type": "code",
      "metadata": {
        "id": "aUUBJZRnIV_b"
      },
      "source": [
        "String_1 = \"This is a string.\"\n",
        "String_2 = ' This is also a string :)'\n",
        "\n",
        "print(String_1)\n",
        "print(String_2)"
      ],
      "execution_count": null,
      "outputs": []
    },
    {
      "cell_type": "markdown",
      "metadata": {
        "id": "fXqBv5EnIV_c"
      },
      "source": [
        "Sometimes, strings will also contain quotation marks or other special characters. To avoid syntax errors in such cases, we need to use the escape character or backslash ```\"\\\"```.  Prefixing a special character with ```\"\\\"``` turns it into an ordinary character. Additionally, the backslash ```\"\\\"``` can be used to specify special characters such as the newline ```\"\\n\"```, tab ```\"\\t\"```, carriage return ```\"\\r\"```, etc. "
      ]
    },
    {
      "cell_type": "code",
      "metadata": {
        "id": "7nTOkz7CIV_c"
      },
      "source": [
        "String_3 = \"This shouldn't work.\""
      ],
      "execution_count": null,
      "outputs": []
    },
    {
      "cell_type": "code",
      "metadata": {
        "id": "dHFWwUb_IV_c"
      },
      "source": [
        "String_3 = 'This shouldn\\'t break.'\n",
        "print(String_3)"
      ],
      "execution_count": null,
      "outputs": []
    },
    {
      "cell_type": "markdown",
      "metadata": {
        "id": "mqxzCGTrIV_c"
      },
      "source": [
        "The escape character can also be used to specify characters using unicodes."
      ]
    },
    {
      "cell_type": "code",
      "metadata": {
        "id": "HgP8iSl3IV_d"
      },
      "source": [
        "print(\"Grinning face: \\U0001f600\")\n",
        "print(\"Squinting face: \\U0001F606\")\n",
        "print(\"ROFL face: \\U0001F923\")"
      ],
      "execution_count": null,
      "outputs": []
    },
    {
      "cell_type": "markdown",
      "metadata": {
        "id": "sVFPtffyIV_d"
      },
      "source": [
        "As you might have noticed, the print function appends a newline character ```\"\\n\"``` to its output. This forces consecutive print calls to start on a new line. We can avoid this by assigning the 'end'  argument in the print function to an empty string."
      ]
    },
    {
      "cell_type": "code",
      "metadata": {
        "id": "Yw0CSOujIV_d"
      },
      "source": [
        "print(String_1, end='')\n",
        "print(String_2)"
      ],
      "execution_count": null,
      "outputs": []
    },
    {
      "cell_type": "markdown",
      "metadata": {
        "id": "eT1ofcNaIV_d"
      },
      "source": [
        "We can achieve the same effect by using string concatenation. This operation allows us to combine two or more strings together."
      ]
    },
    {
      "cell_type": "code",
      "metadata": {
        "id": "yikzZ7pgIV_d"
      },
      "source": [
        "print(String_1 + String_2)"
      ],
      "execution_count": null,
      "outputs": []
    },
    {
      "cell_type": "markdown",
      "metadata": {
        "id": "bgp9X8glIV_e"
      },
      "source": [
        "We can also concatenate strings with other data types by first converting them into strings using the **str()** in-built function."
      ]
    },
    {
      "cell_type": "code",
      "metadata": {
        "id": "tM-b356DIV_e"
      },
      "source": [
        "num_chars = len(String_1)\n",
        "print(\"String_1 is \"+str(num_chars)+\" characters long\")"
      ],
      "execution_count": null,
      "outputs": []
    },
    {
      "cell_type": "markdown",
      "metadata": {
        "id": "rkaIWLIWIV_e"
      },
      "source": [
        "Alternatively, this concatenation can be performed by passing a list of comma-separated inputs into the print function. "
      ]
    },
    {
      "cell_type": "code",
      "metadata": {
        "id": "tgeaME2xIV_e"
      },
      "source": [
        "print(\"String_1 is\",num_chars,\"characters long\")"
      ],
      "execution_count": null,
      "outputs": []
    },
    {
      "cell_type": "markdown",
      "metadata": {
        "id": "xl6_IiR-IV_f"
      },
      "source": [
        "Notice that we didn't need to add extra spacing around the first and last strings and didn't need to convert the num_chars integer into a string.\n",
        "\n",
        "The **print** function can be extremely useful for debugging purposes. For example, printing out the value of the variable before or after mathematical operations to ensure the correct operation occurred."
      ]
    },
    {
      "cell_type": "code",
      "metadata": {
        "id": "eI7IGVyqIV_f"
      },
      "source": [
        "a = 3\n",
        "b = a%2\n",
        "c = b**2\n",
        "d = a/(c*5) + b\n",
        "\n",
        "print(d)"
      ],
      "execution_count": null,
      "outputs": []
    },
    {
      "cell_type": "markdown",
      "metadata": {
        "id": "6xAgw4pRIV_f"
      },
      "source": [
        "## Functions\n",
        "\n",
        "A function is a block of organised, reusable code that is used to perform an action. \n",
        "\n",
        "![alt_text](https://github.com/Explore-AI/Public-Data/blob/master/function_components.png?raw=true \"Function Components\")\n",
        "\n",
        "The image above points out all the components of a function in Python. \n",
        "\n",
        "### def\n",
        "\n",
        "We can define a function using the `def` keyword. This `def` keyword is then followed by a name for the function and two brackets (we'll get back to this later). It is important to note that everything inside the function must be indented by one tab deeper than `def`."
      ]
    },
    {
      "cell_type": "code",
      "metadata": {
        "collapsed": true,
        "id": "a1TzMk3MIV_f"
      },
      "source": [
        "def name_of_your_function(a, b, c):\n",
        "    some_result = do_something_with(a and b and c)\n",
        "    return some_result"
      ],
      "execution_count": null,
      "outputs": []
    },
    {
      "cell_type": "markdown",
      "metadata": {
        "id": "uzCjlxwHIV_f"
      },
      "source": [
        "Here is a simple example."
      ]
    },
    {
      "cell_type": "code",
      "metadata": {
        "collapsed": true,
        "id": "cDsz5Ra6IV_f"
      },
      "source": [
        "def monthly_expenses(rent, food):\n",
        "    total_expenses = rent + food\n",
        "    return total_expenses"
      ],
      "execution_count": null,
      "outputs": []
    },
    {
      "cell_type": "markdown",
      "metadata": {
        "id": "54mHwMb9IV_g"
      },
      "source": [
        "Now lets consider the following function."
      ]
    },
    {
      "cell_type": "code",
      "metadata": {
        "collapsed": true,
        "id": "7k5QuJBIIV_g"
      },
      "source": [
        "def print_something():\n",
        "    print('SoMeThInG')"
      ],
      "execution_count": null,
      "outputs": []
    },
    {
      "cell_type": "markdown",
      "metadata": {
        "id": "zMUiz5W7IV_g"
      },
      "source": [
        "We can run this function by writing the name of the function, followed by two brackets:"
      ]
    },
    {
      "cell_type": "code",
      "metadata": {
        "id": "ktYTrIZ2IV_g"
      },
      "source": [
        "print_something()"
      ],
      "execution_count": null,
      "outputs": []
    },
    {
      "cell_type": "markdown",
      "metadata": {
        "id": "w-bXlfU7IV_g"
      },
      "source": [
        "### return\n",
        "\n",
        "In the above example, we printed something in the function.  But, more often than not, we would want to **return** something from the function. It's useful (at least at the start) to think of **return** as the function passing something back to whoever ran it."
      ]
    },
    {
      "cell_type": "code",
      "metadata": {
        "collapsed": true,
        "id": "TUziqZ4WIV_g"
      },
      "source": [
        "def return_something():\n",
        "    return 'SoMeThInG'"
      ],
      "execution_count": null,
      "outputs": []
    },
    {
      "cell_type": "code",
      "metadata": {
        "id": "hWBjjxzWIV_h"
      },
      "source": [
        "return_something()"
      ],
      "execution_count": null,
      "outputs": []
    },
    {
      "cell_type": "markdown",
      "metadata": {
        "id": "fwkeNPsLIV_h"
      },
      "source": [
        "We notice ``return_something`` returns a string. This is different from `print_something` which won't give us any result **out**, but merely *print it*:"
      ]
    },
    {
      "cell_type": "code",
      "metadata": {
        "id": "SHIeunVTIV_h"
      },
      "source": [
        "print_something()"
      ],
      "execution_count": null,
      "outputs": []
    },
    {
      "cell_type": "markdown",
      "metadata": {
        "id": "5FwggJusIV_h"
      },
      "source": [
        "### Arguments \n",
        "\n",
        "Let's say we want to write a function that returns the result of the future value equation:\n",
        "\n",
        "$(1 + i)^n$\n",
        "\n",
        "where $i$, and $n$ are both numbers. We can pass in the values of i and n into the function, by defining it as follows."
      ]
    },
    {
      "cell_type": "code",
      "metadata": {
        "collapsed": true,
        "id": "PtsNB7dHIV_i"
      },
      "source": [
        "def future_value(i, n):\n",
        "    result = (1 + i)**n\n",
        "    return result"
      ],
      "execution_count": null,
      "outputs": []
    },
    {
      "cell_type": "markdown",
      "metadata": {
        "id": "yTp_iKGFIV_i"
      },
      "source": [
        "We can then call our function with any values of i and n."
      ]
    },
    {
      "cell_type": "code",
      "metadata": {
        "id": "ga8El5ALIV_i"
      },
      "source": [
        "future_value(0.05, 20)"
      ],
      "execution_count": null,
      "outputs": []
    },
    {
      "cell_type": "markdown",
      "metadata": {
        "id": "Fx9_DJo3IV_i"
      },
      "source": [
        "The `i` and the `n` inside `equation(i, n)` are called **arguments** to the function. Function arguments allow us to make generic functions that can be used with infinitely many variations. "
      ]
    },
    {
      "cell_type": "code",
      "metadata": {
        "id": "FL4OkjthIV_i"
      },
      "source": [
        "future_value(0.1, 20)"
      ],
      "execution_count": null,
      "outputs": []
    },
    {
      "cell_type": "code",
      "metadata": {
        "id": "K8CmAJFnIV_i"
      },
      "source": [
        "future_value(0.15, 20)"
      ],
      "execution_count": null,
      "outputs": []
    },
    {
      "cell_type": "markdown",
      "metadata": {
        "id": "LHPbD6f3IV_i"
      },
      "source": [
        "## Scope of Variables\n",
        "\n",
        "Variable scope refers to how accessible a variable is to different parts of the program. The scope of a variable can be **local** or **global**, we illustrate the difference in the example below."
      ]
    },
    {
      "cell_type": "code",
      "metadata": {
        "id": "Rw0UEPVtIV_j"
      },
      "source": [
        "y = 10\n",
        "def my_function():\n",
        "    x = 2\n",
        "    print(\"Inside function, x =\",x) \n",
        "    print(\"Inside function, y =\",y) \n",
        "    \n",
        "    return \n",
        "\n",
        "my_function()\n",
        "print(\"Outside function, y =\",y)\n",
        "print(\"Outside function, x =\",x)\n"
      ],
      "execution_count": null,
      "outputs": []
    },
    {
      "cell_type": "markdown",
      "metadata": {
        "id": "_PHoQm1aIV_j"
      },
      "source": [
        "**Local variables** only exist within a context, in the above example, this refers to the body of the function. Furthermore, they can only be accessed within this context. On the other hand, **global variables** can be accessed from anywhere in the code. ```x``` is a local variable and only exists within ```my_function``` and attempting to access if outside the function, results in an error. ```y``` however, is a global variable and can be accessed both inside and outside of the function.\n",
        "\n",
        "To declare global variables within a context, we can use the ```global``` keyword as follows:"
      ]
    },
    {
      "cell_type": "code",
      "metadata": {
        "id": "c0rg-ItUIV_j",
        "outputId": "99cc6a0b-e7a6-4337-af05-7f99100f9c53"
      },
      "source": [
        "y = 9\n",
        "def my_other_function():\n",
        "    global x\n",
        "    x = 3\n",
        "    print(\"Inside function, x =\",x) \n",
        "    print(\"Inside function, y =\",y) \n",
        "    \n",
        "    return \n",
        "\n",
        "my_other_function()\n",
        "print(\"Outside function, y =\",y)\n",
        "print(\"Outside function, x =\",x)"
      ],
      "execution_count": null,
      "outputs": [
        {
          "output_type": "stream",
          "text": [
            "Inside function, x = 3\n",
            "Inside function, y = 9\n",
            "Outside function, y = 9\n",
            "Outside function, x = 3\n"
          ],
          "name": "stdout"
        }
      ]
    },
    {
      "cell_type": "markdown",
      "metadata": {
        "id": "04Cun3giIV_j"
      },
      "source": [
        "## Exercises\n",
        "### Exercise 1: Interest rates\n",
        "\n",
        "You just turned 20 and you want to buy a new pair of shoes to wear at your party. The shoes cost R1000. \n",
        "You're broke right now, but you know that in a year's time - when you turn 21 - you will get a lot of money from your relatives for your 21st birthday.\n",
        "\n",
        "FedBank is willing to lend you R1000, at 20% interest per year.\n",
        "\n",
        "Assuming that you take the loan - how much will you have to pay back in one year?\n",
        "\n",
        "***\n",
        "Loan summary:\n",
        "\n",
        "*   $PV$:     **R1000**\n",
        "*   $n$:      **1 year**\n",
        "*   $i$:      **20% interest** per annum, compounded annually\n",
        "\n",
        "Given a present value loan amount, PV, the formula for a future repayment (FV) is given by:\n",
        "\n",
        "\n",
        "\\begin{equation}\n",
        "FV = PV(1 + i)^n\n",
        "\\end{equation}\n",
        "\n",
        "\n",
        "***\n",
        "\n",
        "In Python we'd calculate this value as follows:"
      ]
    },
    {
      "cell_type": "code",
      "metadata": {
        "id": "SZtJ8v_3IV_j",
        "outputId": "ac0b5a13-c0f3-4b0b-f87e-1854db5f0004"
      },
      "source": [
        "# Present Value of the Loan amount:\n",
        "PV = 1000\n",
        "\n",
        "# Interest rate, i:\n",
        "i = 20 / 100\n",
        "\n",
        "# Term in years, n:\n",
        "n = 1\n",
        "\n",
        "#Calculate the Future Value, FV:\n",
        "PV*(1 + i)**n"
      ],
      "execution_count": null,
      "outputs": [
        {
          "output_type": "execute_result",
          "data": {
            "text/plain": [
              "1200.0"
            ]
          },
          "metadata": {
            "tags": []
          },
          "execution_count": 24
        }
      ]
    },
    {
      "cell_type": "markdown",
      "metadata": {
        "id": "I3B3_p5_IV_k"
      },
      "source": [
        "So, if you decide to go ahead with the purchase, you'll need to pay an extra R200 to FedBank after 1 year.\n",
        "\n",
        "### Exercise 2: Future Value Formula\n",
        "\n",
        "Now, perform the exact same calculation, just using a function! Create a function called `future_value`, that takes the following arguments: present value $PV$, interest rate $i$, and a term $n$, and returns the future repayment value ($FV$) of that loan. "
      ]
    },
    {
      "cell_type": "code",
      "metadata": {
        "collapsed": true,
        "id": "c7hj68viIV_k"
      },
      "source": [
        "def future_value_of(PV, i, n):\n",
        "    PV = 500\n",
        "    i= 15/100\n",
        "    n=1\n",
        "    FV = PV *(1+i)**n\n",
        "    return FV"
      ],
      "execution_count": null,
      "outputs": []
    },
    {
      "cell_type": "code",
      "metadata": {
        "collapsed": true,
        "id": "jseQjyHdIV_k"
      },
      "source": [
        "future_value_of(500, 0.15, 10)"
      ],
      "execution_count": null,
      "outputs": []
    },
    {
      "cell_type": "markdown",
      "metadata": {
        "id": "xX56Lc4rIV_l"
      },
      "source": [
        "Your code should give the following results:\n",
        "\n",
        "\n",
        "*   `future_value(100, 0.1, 20) = 672.7499949325611`\n",
        "*   `future_value(500, 0.15, 10) = 2022.7788678539534`\n",
        "\n"
      ]
    },
    {
      "cell_type": "markdown",
      "metadata": {
        "id": "vnbSjIeYIV_l"
      },
      "source": [
        "## Conclusion\n",
        "\n",
        "In this train, you learned to perform basic operations using print statements and strings, as well as the basic aspects of Python functions and the scope of variables. The reader is expected to complete the exercises before moving forward to ensure familiarity with these concepts."
      ]
    },
    {
      "cell_type": "markdown",
      "metadata": {
        "id": "eTZHDFYDIV_l"
      },
      "source": [
        "\n",
        "## Appendix\n",
        "\n",
        "- [Print Statement](https://www.w3schools.com/python/ref_func_print.asp)\n",
        "\n",
        "- [Functions](https://www.w3schools.com/python/python_functions.asp)"
      ]
    }
  ]
}